{
 "cells": [
  {
   "cell_type": "markdown",
   "metadata": {
    "id": "U0bKcQCDEIyE"
   },
   "source": [
    "## Preprocessing"
   ]
  },
  {
   "cell_type": "code",
   "execution_count": 3,
   "metadata": {
    "colab": {
     "base_uri": "https://localhost:8080/",
     "height": 496
    },
    "id": "DAxeTKYFEIyE",
    "outputId": "61f2cff0-bb9b-4062-fc4c-d8d540b4e703"
   },
   "outputs": [
    {
     "data": {
      "text/html": [
       "<div>\n",
       "<style scoped>\n",
       "    .dataframe tbody tr th:only-of-type {\n",
       "        vertical-align: middle;\n",
       "    }\n",
       "\n",
       "    .dataframe tbody tr th {\n",
       "        vertical-align: top;\n",
       "    }\n",
       "\n",
       "    .dataframe thead th {\n",
       "        text-align: right;\n",
       "    }\n",
       "</style>\n",
       "<table border=\"1\" class=\"dataframe\">\n",
       "  <thead>\n",
       "    <tr style=\"text-align: right;\">\n",
       "      <th></th>\n",
       "      <th>EIN</th>\n",
       "      <th>NAME</th>\n",
       "      <th>APPLICATION_TYPE</th>\n",
       "      <th>AFFILIATION</th>\n",
       "      <th>CLASSIFICATION</th>\n",
       "      <th>USE_CASE</th>\n",
       "      <th>ORGANIZATION</th>\n",
       "      <th>STATUS</th>\n",
       "      <th>INCOME_AMT</th>\n",
       "      <th>SPECIAL_CONSIDERATIONS</th>\n",
       "      <th>ASK_AMT</th>\n",
       "      <th>IS_SUCCESSFUL</th>\n",
       "    </tr>\n",
       "  </thead>\n",
       "  <tbody>\n",
       "    <tr>\n",
       "      <th>0</th>\n",
       "      <td>10520599</td>\n",
       "      <td>BLUE KNIGHTS MOTORCYCLE CLUB</td>\n",
       "      <td>T10</td>\n",
       "      <td>Independent</td>\n",
       "      <td>C1000</td>\n",
       "      <td>ProductDev</td>\n",
       "      <td>Association</td>\n",
       "      <td>1</td>\n",
       "      <td>0</td>\n",
       "      <td>N</td>\n",
       "      <td>5000</td>\n",
       "      <td>1</td>\n",
       "    </tr>\n",
       "    <tr>\n",
       "      <th>1</th>\n",
       "      <td>10531628</td>\n",
       "      <td>AMERICAN CHESAPEAKE CLUB CHARITABLE TR</td>\n",
       "      <td>T3</td>\n",
       "      <td>Independent</td>\n",
       "      <td>C2000</td>\n",
       "      <td>Preservation</td>\n",
       "      <td>Co-operative</td>\n",
       "      <td>1</td>\n",
       "      <td>1-9999</td>\n",
       "      <td>N</td>\n",
       "      <td>108590</td>\n",
       "      <td>1</td>\n",
       "    </tr>\n",
       "    <tr>\n",
       "      <th>2</th>\n",
       "      <td>10547893</td>\n",
       "      <td>ST CLOUD PROFESSIONAL FIREFIGHTERS</td>\n",
       "      <td>T5</td>\n",
       "      <td>CompanySponsored</td>\n",
       "      <td>C3000</td>\n",
       "      <td>ProductDev</td>\n",
       "      <td>Association</td>\n",
       "      <td>1</td>\n",
       "      <td>0</td>\n",
       "      <td>N</td>\n",
       "      <td>5000</td>\n",
       "      <td>0</td>\n",
       "    </tr>\n",
       "    <tr>\n",
       "      <th>3</th>\n",
       "      <td>10553066</td>\n",
       "      <td>SOUTHSIDE ATHLETIC ASSOCIATION</td>\n",
       "      <td>T3</td>\n",
       "      <td>CompanySponsored</td>\n",
       "      <td>C2000</td>\n",
       "      <td>Preservation</td>\n",
       "      <td>Trust</td>\n",
       "      <td>1</td>\n",
       "      <td>10000-24999</td>\n",
       "      <td>N</td>\n",
       "      <td>6692</td>\n",
       "      <td>1</td>\n",
       "    </tr>\n",
       "    <tr>\n",
       "      <th>4</th>\n",
       "      <td>10556103</td>\n",
       "      <td>GENETIC RESEARCH INSTITUTE OF THE DESERT</td>\n",
       "      <td>T3</td>\n",
       "      <td>Independent</td>\n",
       "      <td>C1000</td>\n",
       "      <td>Heathcare</td>\n",
       "      <td>Trust</td>\n",
       "      <td>1</td>\n",
       "      <td>100000-499999</td>\n",
       "      <td>N</td>\n",
       "      <td>142590</td>\n",
       "      <td>1</td>\n",
       "    </tr>\n",
       "  </tbody>\n",
       "</table>\n",
       "</div>"
      ],
      "text/plain": [
       "        EIN                                      NAME APPLICATION_TYPE  \\\n",
       "0  10520599              BLUE KNIGHTS MOTORCYCLE CLUB              T10   \n",
       "1  10531628    AMERICAN CHESAPEAKE CLUB CHARITABLE TR               T3   \n",
       "2  10547893        ST CLOUD PROFESSIONAL FIREFIGHTERS               T5   \n",
       "3  10553066            SOUTHSIDE ATHLETIC ASSOCIATION               T3   \n",
       "4  10556103  GENETIC RESEARCH INSTITUTE OF THE DESERT               T3   \n",
       "\n",
       "        AFFILIATION CLASSIFICATION      USE_CASE  ORGANIZATION  STATUS  \\\n",
       "0       Independent          C1000    ProductDev   Association       1   \n",
       "1       Independent          C2000  Preservation  Co-operative       1   \n",
       "2  CompanySponsored          C3000    ProductDev   Association       1   \n",
       "3  CompanySponsored          C2000  Preservation         Trust       1   \n",
       "4       Independent          C1000     Heathcare         Trust       1   \n",
       "\n",
       "      INCOME_AMT SPECIAL_CONSIDERATIONS  ASK_AMT  IS_SUCCESSFUL  \n",
       "0              0                      N     5000              1  \n",
       "1         1-9999                      N   108590              1  \n",
       "2              0                      N     5000              0  \n",
       "3    10000-24999                      N     6692              1  \n",
       "4  100000-499999                      N   142590              1  "
      ]
     },
     "execution_count": 3,
     "metadata": {},
     "output_type": "execute_result"
    }
   ],
   "source": [
    "# Import our dependencies\n",
    "from sklearn.model_selection import train_test_split\n",
    "from sklearn.preprocessing import StandardScaler\n",
    "import pandas as pd\n",
    "import tensorflow as tf\n",
    "\n",
    "#  Import and read the charity_data.csv.\n",
    "import pandas as pd \n",
    "application_df = pd.read_csv(\"../Resources/charity_data.csv\")\n",
    "application_df.head()\n"
   ]
  },
  {
   "cell_type": "code",
   "execution_count": 4,
   "metadata": {
    "colab": {
     "base_uri": "https://localhost:8080/",
     "height": 423
    },
    "id": "nE0CmTwCEIyF",
    "outputId": "bcb7c71f-b772-476c-81ef-e5eeca34a21f"
   },
   "outputs": [
    {
     "data": {
      "text/html": [
       "<div>\n",
       "<style scoped>\n",
       "    .dataframe tbody tr th:only-of-type {\n",
       "        vertical-align: middle;\n",
       "    }\n",
       "\n",
       "    .dataframe tbody tr th {\n",
       "        vertical-align: top;\n",
       "    }\n",
       "\n",
       "    .dataframe thead th {\n",
       "        text-align: right;\n",
       "    }\n",
       "</style>\n",
       "<table border=\"1\" class=\"dataframe\">\n",
       "  <thead>\n",
       "    <tr style=\"text-align: right;\">\n",
       "      <th></th>\n",
       "      <th>APPLICATION_TYPE</th>\n",
       "      <th>AFFILIATION</th>\n",
       "      <th>CLASSIFICATION</th>\n",
       "      <th>USE_CASE</th>\n",
       "      <th>ORGANIZATION</th>\n",
       "      <th>STATUS</th>\n",
       "      <th>INCOME_AMT</th>\n",
       "      <th>SPECIAL_CONSIDERATIONS</th>\n",
       "      <th>ASK_AMT</th>\n",
       "      <th>IS_SUCCESSFUL</th>\n",
       "    </tr>\n",
       "  </thead>\n",
       "  <tbody>\n",
       "    <tr>\n",
       "      <th>0</th>\n",
       "      <td>T10</td>\n",
       "      <td>Independent</td>\n",
       "      <td>C1000</td>\n",
       "      <td>ProductDev</td>\n",
       "      <td>Association</td>\n",
       "      <td>1</td>\n",
       "      <td>0</td>\n",
       "      <td>N</td>\n",
       "      <td>5000</td>\n",
       "      <td>1</td>\n",
       "    </tr>\n",
       "    <tr>\n",
       "      <th>1</th>\n",
       "      <td>T3</td>\n",
       "      <td>Independent</td>\n",
       "      <td>C2000</td>\n",
       "      <td>Preservation</td>\n",
       "      <td>Co-operative</td>\n",
       "      <td>1</td>\n",
       "      <td>1-9999</td>\n",
       "      <td>N</td>\n",
       "      <td>108590</td>\n",
       "      <td>1</td>\n",
       "    </tr>\n",
       "    <tr>\n",
       "      <th>2</th>\n",
       "      <td>T5</td>\n",
       "      <td>CompanySponsored</td>\n",
       "      <td>C3000</td>\n",
       "      <td>ProductDev</td>\n",
       "      <td>Association</td>\n",
       "      <td>1</td>\n",
       "      <td>0</td>\n",
       "      <td>N</td>\n",
       "      <td>5000</td>\n",
       "      <td>0</td>\n",
       "    </tr>\n",
       "    <tr>\n",
       "      <th>3</th>\n",
       "      <td>T3</td>\n",
       "      <td>CompanySponsored</td>\n",
       "      <td>C2000</td>\n",
       "      <td>Preservation</td>\n",
       "      <td>Trust</td>\n",
       "      <td>1</td>\n",
       "      <td>10000-24999</td>\n",
       "      <td>N</td>\n",
       "      <td>6692</td>\n",
       "      <td>1</td>\n",
       "    </tr>\n",
       "    <tr>\n",
       "      <th>4</th>\n",
       "      <td>T3</td>\n",
       "      <td>Independent</td>\n",
       "      <td>C1000</td>\n",
       "      <td>Heathcare</td>\n",
       "      <td>Trust</td>\n",
       "      <td>1</td>\n",
       "      <td>100000-499999</td>\n",
       "      <td>N</td>\n",
       "      <td>142590</td>\n",
       "      <td>1</td>\n",
       "    </tr>\n",
       "  </tbody>\n",
       "</table>\n",
       "</div>"
      ],
      "text/plain": [
       "  APPLICATION_TYPE       AFFILIATION CLASSIFICATION      USE_CASE  \\\n",
       "0              T10       Independent          C1000    ProductDev   \n",
       "1               T3       Independent          C2000  Preservation   \n",
       "2               T5  CompanySponsored          C3000    ProductDev   \n",
       "3               T3  CompanySponsored          C2000  Preservation   \n",
       "4               T3       Independent          C1000     Heathcare   \n",
       "\n",
       "   ORGANIZATION  STATUS     INCOME_AMT SPECIAL_CONSIDERATIONS  ASK_AMT  \\\n",
       "0   Association       1              0                      N     5000   \n",
       "1  Co-operative       1         1-9999                      N   108590   \n",
       "2   Association       1              0                      N     5000   \n",
       "3         Trust       1    10000-24999                      N     6692   \n",
       "4         Trust       1  100000-499999                      N   142590   \n",
       "\n",
       "   IS_SUCCESSFUL  \n",
       "0              1  \n",
       "1              1  \n",
       "2              0  \n",
       "3              1  \n",
       "4              1  "
      ]
     },
     "execution_count": 4,
     "metadata": {},
     "output_type": "execute_result"
    }
   ],
   "source": [
    "# Drop the non-beneficial ID columns, 'EIN' and 'NAME'.\n",
    "application_df = application_df.drop([\"EIN\", 'NAME'], axis=1)\n",
    "# Display dif\n",
    "application_df.head()"
   ]
  },
  {
   "cell_type": "code",
   "execution_count": 21,
   "metadata": {
    "colab": {
     "base_uri": "https://localhost:8080/"
    },
    "id": "MDlV4OtJEIyF",
    "outputId": "fa3787f1-61ba-44c5-8025-0a5968e44da8"
   },
   "outputs": [
    {
     "data": {
      "text/plain": [
       "APPLICATION_TYPE            17\n",
       "AFFILIATION                  6\n",
       "CLASSIFICATION              71\n",
       "USE_CASE                     5\n",
       "ORGANIZATION                 4\n",
       "STATUS                       2\n",
       "INCOME_AMT                   9\n",
       "SPECIAL_CONSIDERATIONS       2\n",
       "ASK_AMT                   8747\n",
       "IS_SUCCESSFUL                2\n",
       "dtype: int64"
      ]
     },
     "execution_count": 21,
     "metadata": {},
     "output_type": "execute_result"
    }
   ],
   "source": [
    "# Determine the number of unique values in each column.\n",
    "application_df.nunique()"
   ]
  },
  {
   "cell_type": "code",
   "execution_count": 6,
   "metadata": {
    "colab": {
     "base_uri": "https://localhost:8080/"
    },
    "id": "iM1rE9L0EIyF",
    "outputId": "115e72ac-7d22-4cfc-c13b-2a7ea7385bf0"
   },
   "outputs": [
    {
     "data": {
      "text/plain": [
       "T3     27037\n",
       "T4      1542\n",
       "T6      1216\n",
       "T5      1173\n",
       "T19     1065\n",
       "T8       737\n",
       "T7       725\n",
       "T10      528\n",
       "T9       156\n",
       "T13       66\n",
       "T12       27\n",
       "T2        16\n",
       "T25        3\n",
       "T14        3\n",
       "T29        2\n",
       "T15        2\n",
       "T17        1\n",
       "Name: APPLICATION_TYPE, dtype: int64"
      ]
     },
     "execution_count": 6,
     "metadata": {},
     "output_type": "execute_result"
    }
   ],
   "source": [
    "# Look at APPLICATION_TYPE value counts for binning\n",
    "application_df['APPLICATION_TYPE'].value_counts()"
   ]
  },
  {
   "cell_type": "code",
   "execution_count": 23,
   "metadata": {
    "colab": {
     "base_uri": "https://localhost:8080/"
    },
    "id": "OmC-jhC_HR0D",
    "outputId": "d8f56baf-ad8b-4486-9b00-4d48ebf3d1af"
   },
   "outputs": [
    {
     "data": {
      "text/plain": [
       "T3       27037\n",
       "T4        1542\n",
       "T6        1216\n",
       "T5        1173\n",
       "T19       1065\n",
       "T8         737\n",
       "T7         725\n",
       "T10        528\n",
       "Other      276\n",
       "Name: APPLICATION_TYPE, dtype: int64"
      ]
     },
     "execution_count": 23,
     "metadata": {},
     "output_type": "execute_result"
    }
   ],
   "source": [
    "# Choose a cutoff value and create a list of application types to be replaced\n",
    "# use the variable name `application_types_to_replace`\n",
    "#  YOUR CODE GOES HERE\n",
    "application_types_to_replace = ['T9','T13','T12','T12','T2','T25','T14','T29','T15','T17']\n",
    "# Replace in dataframe\n",
    "for app in application_types_to_replace:\n",
    "    application_df['APPLICATION_TYPE'] = application_df['APPLICATION_TYPE'].replace(app,\"Other\")\n",
    "\n",
    "# Check to make sure binning was successful\n",
    "application_df['APPLICATION_TYPE'].value_counts()"
   ]
  },
  {
   "cell_type": "code",
   "execution_count": 24,
   "metadata": {
    "colab": {
     "base_uri": "https://localhost:8080/"
    },
    "id": "AxDpw5eWEIyG",
    "outputId": "7fefd933-83e0-4477-aa1f-4f1fc45439e2"
   },
   "outputs": [
    {
     "data": {
      "text/plain": [
       "C1000    17326\n",
       "C2000     6074\n",
       "C1200     4837\n",
       "C3000     1918\n",
       "C2100     1883\n",
       "         ...  \n",
       "C4120        1\n",
       "C8210        1\n",
       "C2561        1\n",
       "C4500        1\n",
       "C2150        1\n",
       "Name: CLASSIFICATION, Length: 71, dtype: int64"
      ]
     },
     "execution_count": 24,
     "metadata": {},
     "output_type": "execute_result"
    }
   ],
   "source": [
    "# Look at CLASSIFICATION value counts for binning\n",
    "application_df['CLASSIFICATION'].value_counts()"
   ]
  },
  {
   "cell_type": "code",
   "execution_count": 25,
   "metadata": {
    "colab": {
     "base_uri": "https://localhost:8080/"
    },
    "id": "uaGrLegVEIyG",
    "outputId": "09d7549e-6b47-4b76-fb67-f3edfa099938"
   },
   "outputs": [
    {
     "data": {
      "text/plain": [
       "C1000    17326\n",
       "C2000     6074\n",
       "C1200     4837\n",
       "C3000     1918\n",
       "C2100     1883\n",
       "C7000      777\n",
       "C1700      287\n",
       "C4000      194\n",
       "C5000      116\n",
       "C1270      114\n",
       "C2700      104\n",
       "C2800       95\n",
       "C7100       75\n",
       "C1300       58\n",
       "C1280       50\n",
       "C1230       36\n",
       "C1400       34\n",
       "C7200       32\n",
       "C2300       32\n",
       "C1240       30\n",
       "C8000       20\n",
       "C7120       18\n",
       "C1500       16\n",
       "C1800       15\n",
       "C6000       15\n",
       "C1250       14\n",
       "C8200       11\n",
       "C1238       10\n",
       "C1278       10\n",
       "C1235        9\n",
       "C1237        9\n",
       "C7210        7\n",
       "C2400        6\n",
       "C1720        6\n",
       "C4100        6\n",
       "C1257        5\n",
       "C1600        5\n",
       "C1260        3\n",
       "C2710        3\n",
       "C0           3\n",
       "C3200        2\n",
       "C1234        2\n",
       "C1246        2\n",
       "C1267        2\n",
       "C1256        2\n",
       "Name: CLASSIFICATION, dtype: int64"
      ]
     },
     "execution_count": 25,
     "metadata": {},
     "output_type": "execute_result"
    }
   ],
   "source": [
    "# You may find it helpful to look at CLASSIFICATION value counts >1\n",
    "application_df['CLASSIFICATION'].value_counts().loc[lambda x: x>1]"
   ]
  },
  {
   "cell_type": "code",
   "execution_count": 12,
   "metadata": {
    "colab": {
     "base_uri": "https://localhost:8080/"
    },
    "id": "E0xQnJb4xYfa",
    "outputId": "dd6a47ab-bc2d-420c-ef90-7f021e4aae16"
   },
   "outputs": [],
   "source": [
    "trimmed_classification = application_df['CLASSIFICATION'].value_counts().loc[lambda x: x <104].index"
   ]
  },
  {
   "cell_type": "code",
   "execution_count": 13,
   "metadata": {
    "colab": {
     "base_uri": "https://localhost:8080/"
    },
    "id": "1Z_cCrnsw-iA",
    "outputId": "afe061bc-bcd3-4b77-b6d2-a34bbb43a11c"
   },
   "outputs": [
    {
     "data": {
      "text/plain": [
       "Other    34299\n",
       "Name: CLASSIFICATION, dtype: int64"
      ]
     },
     "execution_count": 13,
     "metadata": {},
     "output_type": "execute_result"
    }
   ],
   "source": [
    "# Replace in dataframe\n",
    "for cls in trimmed_classification:\n",
    "    application_df['CLASSIFICATION'] = application_df['CLASSIFICATION'].replace(cls,\"Other\")\n",
    "    \n",
    "# Check to make sure binning was successful\n",
    "application_df['CLASSIFICATION'].value_counts()"
   ]
  },
  {
   "cell_type": "code",
   "execution_count": 28,
   "metadata": {
    "colab": {
     "base_uri": "https://localhost:8080/"
    },
    "id": "Wm43YK9pEIyG",
    "outputId": "6cb3ffe2-dd88-4e88-9d74-be43f96be6f9"
   },
   "outputs": [
    {
     "data": {
      "text/plain": [
       "C1000    17326\n",
       "C2000     6074\n",
       "C1200     4837\n",
       "Other     2261\n",
       "C3000     1918\n",
       "C2100     1883\n",
       "Name: CLASSIFICATION, dtype: int64"
      ]
     },
     "execution_count": 28,
     "metadata": {},
     "output_type": "execute_result"
    }
   ],
   "source": [
    "# trimmed the classification variable\n",
    "for cls in classifications_to_replace:\n",
    "    application_df['CLASSIFICATION'] = application_df['CLASSIFICATION'].replace(cls,\"Other\")\n",
    "    \n",
    "# Check to make sure binning was successful\n",
    "application_df['CLASSIFICATION'].value_counts()"
   ]
  },
  {
   "cell_type": "code",
   "execution_count": 18,
   "metadata": {
    "colab": {
     "base_uri": "https://localhost:8080/",
     "height": 505
    },
    "id": "ICbu-FVyEIyG",
    "outputId": "516e1373-868a-4044-c287-89e1f4df849a"
   },
   "outputs": [],
   "source": [
    "# Convert categorical data to numeric\n",
    "train = application_df.drop(columns=\"IS_SUCCESSFUL\")\n",
    "train = pd.get_dummies(train_data)\n",
    "target = application_df[\"IS_SUCCESSFUL\"]"
   ]
  },
  {
   "cell_type": "code",
   "execution_count": 20,
   "metadata": {
    "id": "eCaIGEoyEIyG"
   },
   "outputs": [],
   "source": [
    "# Split our preprocessed data into our features and target arrays\n",
    "# Split the preprocessed data into a training and testing dataset\n",
    "X_train, X_test, y_train, y_test = train_test_split(train_data, target )"
   ]
  },
  {
   "cell_type": "code",
   "execution_count": 22,
   "metadata": {
    "id": "QBBBCflrEIyG"
   },
   "outputs": [],
   "source": [
    "# Create a StandardScaler instances\n",
    "import sklearn as skl\n",
    "scaler1 = skl.preprocessing.StandardScaler()\n",
    "\n",
    "# Fit the StandardScaler\n",
    "X_scaler1 = scaler1.fit(X_train)\n",
    "\n",
    "# Scale the data\n",
    "X_train_scaled = X_scaler1.transform(X_train)\n",
    "X_test_scaled = X_scaler1.transform(X_test)"
   ]
  },
  {
   "cell_type": "markdown",
   "metadata": {
    "id": "Bqw7Wzu_EIyG"
   },
   "source": [
    "## Compile, Train and Evaluate the Model"
   ]
  },
  {
   "cell_type": "code",
   "execution_count": 42,
   "metadata": {
    "id": "iDR3lRKCB7RP"
   },
   "outputs": [],
   "source": [
    "# Create a method that creates a new Sequential model with hyperparameter options\n",
    "def create_model(hp):\n",
    "    nn_model = tf.keras.models.Sequential()\n",
    "\n",
    "    # Allow kerastuner to decide which activation function to use in hidden layers\n",
    "    activation = hp.Choice('activation',['relu','tanh','sigmoid'])\n",
    "    \n",
    "    # Allow kerastuner to decide number of neurons in first layer\n",
    "    nn_model.add(tf.keras.layers.Dense(units=hp.Int('first_units',\n",
    "        min_value=1,\n",
    "        max_value=10,\n",
    "        step=2), activation=activation, input_dim=47))\n",
    "\n",
    "    # Allow kerastuner to decide number of hidden layers and neurons in hidden layers\n",
    "    for i in range(hp.Int('num_layers', 1, 6)):\n",
    "        nn_model.add(tf.keras.layers.Dense(units=hp.Int('units_' + str(i),\n",
    "            min_value=1,\n",
    "            max_value=10,\n",
    "            step=2),\n",
    "            activation=activation))\n",
    "    \n",
    "    nn_model.add(tf.keras.layers.Dense(units=1, activation=\"sigmoid\"))\n",
    "\n",
    "    # Compile the model\n",
    "    nn_model.compile(loss=\"binary_crossentropy\", optimizer='adam', metrics=[\"accuracy\"])\n",
    "    \n",
    "    return nn_model"
   ]
  },
  {
   "cell_type": "code",
   "execution_count": 43,
   "metadata": {
    "id": "37AMkFJkCCCf"
   },
   "outputs": [
    {
     "name": "stdout",
     "output_type": "stream",
     "text": [
      "INFO:tensorflow:Reloading Tuner from .\\untitled_project\\tuner0.json\n"
     ]
    }
   ],
   "source": [
    " # Import the kerastuner library\n",
    "import kerastuner as kt\n",
    "\n",
    "tuner = kt.Hyperband(\n",
    "    create_model,\n",
    "    objective=\"val_accuracy\",\n",
    "    max_epochs=3,\n",
    "    hyperband_iterations=3)"
   ]
  },
  {
   "cell_type": "code",
   "execution_count": 44,
   "metadata": {
    "colab": {
     "base_uri": "https://localhost:8080/"
    },
    "id": "8Jq4QIyqCK1b",
    "outputId": "64c4843d-1b72-40e7-b986-17c31e946e89",
    "scrolled": false
   },
   "outputs": [
    {
     "name": "stdout",
     "output_type": "stream",
     "text": [
      "Trial 26 Complete [00h 00m 11s]\n",
      "val_accuracy: 0.9997667670249939\n",
      "\n",
      "Best val_accuracy So Far: 0.9997667670249939\n",
      "Total elapsed time: 00h 02m 17s\n",
      "INFO:tensorflow:Oracle triggered exit\n"
     ]
    }
   ],
   "source": [
    " # Run the kerastuner search for best hyperparameters\n",
    "tuner.search(X_train_scaled,y_train,epochs=5,validation_data=(X_test_scaled,y_test))"
   ]
  },
  {
   "cell_type": "code",
   "execution_count": 32,
   "metadata": {
    "colab": {
     "base_uri": "https://localhost:8080/"
    },
    "id": "KekMPTJo_U1I",
    "outputId": "1b87d1d7-706e-4aa3-81bc-41d9f28539bc"
   },
   "outputs": [
    {
     "name": "stdout",
     "output_type": "stream",
     "text": [
      "Model: \"sequential_2\"\n",
      "_________________________________________________________________\n",
      " Layer (type)                Output Shape              Param #   \n",
      "=================================================================\n",
      " dense_7 (Dense)             (None, 7)                 336       \n",
      "                                                                 \n",
      " dense_8 (Dense)             (None, 8)                 64        \n",
      "                                                                 \n",
      " dense_9 (Dense)             (None, 1)                 9         \n",
      "                                                                 \n",
      "=================================================================\n",
      "Total params: 409\n",
      "Trainable params: 409\n",
      "Non-trainable params: 0\n",
      "_________________________________________________________________\n"
     ]
    }
   ],
   "source": [
    "# Define the model - deep neural net, i.e., the number of input features and hidden nodes for each layer.\n",
    "number_input_features = len( X_train_scaled[0])\n",
    "hidden_nodes_layer1=7\n",
    "hidden_nodes_layer2=8\n",
    "hidden_nodes_layer3=9\n",
    "nn = tf.keras.models.Sequential()\n",
    "\n",
    "nn = tf.keras.models.Sequential()\n",
    "\n",
    "# First hidden layer\n",
    "nn.add(tf.keras.layers.Dense(units=hidden_nodes_layer1, input_dim=number_input_features, activation='relu'))\n",
    "\n",
    "# Second hidden layer\n",
    "nn.add(tf.keras.layers.Dense(units=hidden_nodes_layer2, activation='relu'))\n",
    "\n",
    "# Output layer\n",
    "nn.add(tf.keras.layers.Dense(units=1, activation='sigmoid'))\n",
    "\n",
    "# Check the structure of the model\n",
    "nn.summary()"
   ]
  },
  {
   "cell_type": "code",
   "execution_count": 33,
   "metadata": {
    "id": "BjarK6wOAJMO"
   },
   "outputs": [],
   "source": [
    "# Compile the model\n",
    "nn.compile(loss = 'binary_crossentropy', optimizer = 'adam', metrics=['accuracy'])"
   ]
  },
  {
   "cell_type": "code",
   "execution_count": 34,
   "metadata": {
    "colab": {
     "base_uri": "https://localhost:8080/"
    },
    "id": "j1hjPMtSAOGa",
    "outputId": "10c4cf2e-d630-43c7-b650-1c9a07b6bef2"
   },
   "outputs": [
    {
     "name": "stdout",
     "output_type": "stream",
     "text": [
      "Epoch 1/100\n",
      "684/684 [==============================] - 1s 1ms/step - loss: 0.2907 - accuracy: 0.9042 - val_loss: 0.0512 - val_accuracy: 0.9914\n",
      "Epoch 2/100\n",
      "684/684 [==============================] - 1s 1ms/step - loss: 0.0319 - accuracy: 0.9953 - val_loss: 0.0129 - val_accuracy: 0.9992\n",
      "Epoch 3/100\n",
      "684/684 [==============================] - 1s 1ms/step - loss: 0.0126 - accuracy: 0.9988 - val_loss: 0.0051 - val_accuracy: 0.9995\n",
      "Epoch 4/100\n",
      "684/684 [==============================] - 1s 1ms/step - loss: 0.0064 - accuracy: 0.9993 - val_loss: 0.0028 - val_accuracy: 0.9995\n",
      "Epoch 5/100\n",
      "684/684 [==============================] - 1s 1ms/step - loss: 0.0039 - accuracy: 0.9997 - val_loss: 0.0019 - val_accuracy: 0.9997\n",
      "Epoch 6/100\n",
      "684/684 [==============================] - 1s 1ms/step - loss: 0.0027 - accuracy: 0.9997 - val_loss: 0.0015 - val_accuracy: 0.9997\n",
      "Epoch 7/100\n",
      "684/684 [==============================] - 1s 1ms/step - loss: 0.0019 - accuracy: 0.9997 - val_loss: 0.0014 - val_accuracy: 0.9997\n",
      "Epoch 8/100\n",
      "684/684 [==============================] - 1s 1ms/step - loss: 9.7408e-04 - accuracy: 0.9997 - val_loss: 0.0014 - val_accuracy: 0.9997\n",
      "Epoch 9/100\n",
      "684/684 [==============================] - 1s 1ms/step - loss: 0.0012 - accuracy: 0.9997 - val_loss: 0.0012 - val_accuracy: 0.9997\n",
      "Epoch 10/100\n",
      "684/684 [==============================] - 1s 1ms/step - loss: 7.5544e-04 - accuracy: 0.9998 - val_loss: 0.0012 - val_accuracy: 0.9997\n",
      "Epoch 11/100\n",
      "684/684 [==============================] - 1s 1ms/step - loss: 6.7629e-04 - accuracy: 0.9998 - val_loss: 0.0013 - val_accuracy: 0.9997\n",
      "Epoch 12/100\n",
      "684/684 [==============================] - 1s 1ms/step - loss: 6.3980e-04 - accuracy: 0.9998 - val_loss: 0.0011 - val_accuracy: 0.9995\n",
      "Epoch 13/100\n",
      "684/684 [==============================] - 1s 1ms/step - loss: 5.7289e-04 - accuracy: 0.9998 - val_loss: 0.0013 - val_accuracy: 0.9995\n",
      "Epoch 14/100\n",
      "684/684 [==============================] - 1s 1ms/step - loss: 5.1518e-04 - accuracy: 0.9998 - val_loss: 0.0012 - val_accuracy: 0.9997\n",
      "Epoch 15/100\n",
      "684/684 [==============================] - 1s 1ms/step - loss: 4.6890e-04 - accuracy: 0.9998 - val_loss: 8.2128e-04 - val_accuracy: 0.9997\n",
      "Epoch 16/100\n",
      "684/684 [==============================] - 1s 1ms/step - loss: 4.2970e-04 - accuracy: 0.9998 - val_loss: 9.8631e-04 - val_accuracy: 0.9995\n",
      "Epoch 17/100\n",
      "684/684 [==============================] - 1s 1ms/step - loss: 4.1243e-04 - accuracy: 0.9998 - val_loss: 0.0010 - val_accuracy: 0.9997\n",
      "Epoch 18/100\n",
      "684/684 [==============================] - 1s 1ms/step - loss: 4.0131e-04 - accuracy: 0.9998 - val_loss: 0.0012 - val_accuracy: 0.9995\n",
      "Epoch 19/100\n",
      "684/684 [==============================] - 1s 1ms/step - loss: 6.9175e-04 - accuracy: 0.9997 - val_loss: 0.0012 - val_accuracy: 0.9995\n",
      "Epoch 20/100\n",
      "684/684 [==============================] - 1s 1ms/step - loss: 3.8103e-04 - accuracy: 0.9998 - val_loss: 0.0012 - val_accuracy: 0.9995\n",
      "Epoch 21/100\n",
      "684/684 [==============================] - 1s 1ms/step - loss: 3.8075e-04 - accuracy: 0.9998 - val_loss: 4.9570e-04 - val_accuracy: 0.9997\n",
      "Epoch 22/100\n",
      "684/684 [==============================] - 1s 1ms/step - loss: 3.8474e-04 - accuracy: 0.9998 - val_loss: 5.5790e-04 - val_accuracy: 0.9995\n",
      "Epoch 23/100\n",
      "684/684 [==============================] - 1s 1ms/step - loss: 3.7916e-04 - accuracy: 0.9998 - val_loss: 6.9098e-04 - val_accuracy: 0.9995\n",
      "Epoch 24/100\n",
      "684/684 [==============================] - 1s 1ms/step - loss: 3.7711e-04 - accuracy: 0.9998 - val_loss: 8.1934e-04 - val_accuracy: 0.9995\n",
      "Epoch 25/100\n",
      "684/684 [==============================] - 1s 1ms/step - loss: 3.7792e-04 - accuracy: 0.9998 - val_loss: 8.9200e-04 - val_accuracy: 0.9995\n",
      "Epoch 26/100\n",
      "684/684 [==============================] - 1s 1ms/step - loss: 3.7575e-04 - accuracy: 0.9998 - val_loss: 9.0809e-04 - val_accuracy: 0.9995\n",
      "Epoch 27/100\n",
      "684/684 [==============================] - 1s 1ms/step - loss: 3.7774e-04 - accuracy: 0.9998 - val_loss: 9.5114e-04 - val_accuracy: 0.9997\n",
      "Epoch 28/100\n",
      "684/684 [==============================] - 1s 1ms/step - loss: 4.7345e-04 - accuracy: 0.9997 - val_loss: 3.2341e-04 - val_accuracy: 0.9997\n",
      "Epoch 29/100\n",
      "684/684 [==============================] - 1s 1ms/step - loss: 3.7644e-04 - accuracy: 0.9998 - val_loss: 4.8117e-04 - val_accuracy: 0.9997\n",
      "Epoch 30/100\n",
      "684/684 [==============================] - 1s 1ms/step - loss: 3.7585e-04 - accuracy: 0.9998 - val_loss: 6.1025e-04 - val_accuracy: 0.9997\n",
      "Epoch 31/100\n",
      "684/684 [==============================] - 1s 1ms/step - loss: 3.7555e-04 - accuracy: 0.9998 - val_loss: 6.4484e-04 - val_accuracy: 0.9997\n",
      "Epoch 32/100\n",
      "684/684 [==============================] - 1s 1ms/step - loss: 3.7391e-04 - accuracy: 0.9998 - val_loss: 7.2515e-04 - val_accuracy: 0.9997\n",
      "Epoch 33/100\n",
      "684/684 [==============================] - 1s 1ms/step - loss: 3.7945e-04 - accuracy: 0.9998 - val_loss: 9.9938e-04 - val_accuracy: 0.9995\n",
      "Epoch 34/100\n",
      "684/684 [==============================] - 1s 1ms/step - loss: 3.7702e-04 - accuracy: 0.9998 - val_loss: 0.0011 - val_accuracy: 0.9995\n",
      "Epoch 35/100\n",
      "684/684 [==============================] - 1s 1ms/step - loss: 3.7481e-04 - accuracy: 0.9998 - val_loss: 0.0011 - val_accuracy: 0.9995\n",
      "Epoch 36/100\n",
      "684/684 [==============================] - 1s 1ms/step - loss: 3.7785e-04 - accuracy: 0.9998 - val_loss: 0.0011 - val_accuracy: 0.9997\n",
      "Epoch 37/100\n",
      "684/684 [==============================] - 1s 1ms/step - loss: 3.7797e-04 - accuracy: 0.9998 - val_loss: 3.9465e-04 - val_accuracy: 0.9997\n",
      "Epoch 38/100\n",
      "684/684 [==============================] - 1s 1ms/step - loss: 3.7851e-04 - accuracy: 0.9998 - val_loss: 4.6031e-04 - val_accuracy: 0.9997\n",
      "Epoch 39/100\n",
      "684/684 [==============================] - 1s 1ms/step - loss: 3.7792e-04 - accuracy: 0.9998 - val_loss: 5.8681e-04 - val_accuracy: 0.9997\n",
      "Epoch 40/100\n",
      "684/684 [==============================] - 1s 1ms/step - loss: 3.8027e-04 - accuracy: 0.9998 - val_loss: 5.4015e-04 - val_accuracy: 0.9997\n",
      "Epoch 41/100\n",
      "684/684 [==============================] - 1s 1ms/step - loss: 3.7611e-04 - accuracy: 0.9998 - val_loss: 6.0197e-04 - val_accuracy: 0.9997\n",
      "Epoch 42/100\n",
      "684/684 [==============================] - 1s 1ms/step - loss: 3.7618e-04 - accuracy: 0.9998 - val_loss: 6.5087e-04 - val_accuracy: 0.9997\n",
      "Epoch 43/100\n",
      "684/684 [==============================] - 1s 1ms/step - loss: 3.7904e-04 - accuracy: 0.9998 - val_loss: 6.9582e-04 - val_accuracy: 0.9997\n",
      "Epoch 44/100\n",
      "684/684 [==============================] - 1s 1ms/step - loss: 3.7479e-04 - accuracy: 0.9998 - val_loss: 7.6981e-04 - val_accuracy: 0.9997\n",
      "Epoch 45/100\n",
      "684/684 [==============================] - 1s 1ms/step - loss: 3.7661e-04 - accuracy: 0.9998 - val_loss: 8.0846e-04 - val_accuracy: 0.9997\n",
      "Epoch 46/100\n",
      "684/684 [==============================] - 1s 1ms/step - loss: 3.7749e-04 - accuracy: 0.9998 - val_loss: 8.2002e-04 - val_accuracy: 0.9997\n",
      "Epoch 47/100\n",
      "684/684 [==============================] - 1s 1ms/step - loss: 3.7877e-04 - accuracy: 0.9998 - val_loss: 0.0023 - val_accuracy: 0.9992\n",
      "Epoch 48/100\n",
      "684/684 [==============================] - 1s 1ms/step - loss: 7.3356e-04 - accuracy: 0.9998 - val_loss: 0.0030 - val_accuracy: 0.9992\n",
      "Epoch 49/100\n",
      "684/684 [==============================] - 1s 1ms/step - loss: 3.7404e-04 - accuracy: 0.9998 - val_loss: 0.0030 - val_accuracy: 0.9992\n",
      "Epoch 50/100\n",
      "684/684 [==============================] - 1s 1ms/step - loss: 3.7527e-04 - accuracy: 0.9998 - val_loss: 0.0031 - val_accuracy: 0.9992\n",
      "Epoch 51/100\n",
      "684/684 [==============================] - 1s 1ms/step - loss: 3.7277e-04 - accuracy: 0.9998 - val_loss: 0.0031 - val_accuracy: 0.9992\n",
      "Epoch 52/100\n",
      "684/684 [==============================] - 1s 1ms/step - loss: 3.7838e-04 - accuracy: 0.9998 - val_loss: 0.0022 - val_accuracy: 0.9992\n",
      "Epoch 53/100\n",
      "684/684 [==============================] - 1s 1ms/step - loss: 3.7471e-04 - accuracy: 0.9998 - val_loss: 0.0021 - val_accuracy: 0.9992\n",
      "Epoch 54/100\n",
      "684/684 [==============================] - 1s 1ms/step - loss: 3.7631e-04 - accuracy: 0.9998 - val_loss: 0.0021 - val_accuracy: 0.9992\n",
      "Epoch 55/100\n",
      "684/684 [==============================] - 1s 1ms/step - loss: 3.7679e-04 - accuracy: 0.9998 - val_loss: 0.0021 - val_accuracy: 0.9992\n"
     ]
    },
    {
     "name": "stdout",
     "output_type": "stream",
     "text": [
      "Epoch 56/100\n",
      "684/684 [==============================] - 1s 1ms/step - loss: 3.7733e-04 - accuracy: 0.9998 - val_loss: 0.0021 - val_accuracy: 0.9992\n",
      "Epoch 57/100\n",
      "684/684 [==============================] - 1s 1ms/step - loss: 3.7690e-04 - accuracy: 0.9998 - val_loss: 0.0020 - val_accuracy: 0.9992\n",
      "Epoch 58/100\n",
      "684/684 [==============================] - 1s 1ms/step - loss: 3.7373e-04 - accuracy: 0.9998 - val_loss: 0.0021 - val_accuracy: 0.9992\n",
      "Epoch 59/100\n",
      "684/684 [==============================] - 1s 1ms/step - loss: 6.2962e-04 - accuracy: 0.9998 - val_loss: 0.0016 - val_accuracy: 0.9995\n",
      "Epoch 60/100\n",
      "684/684 [==============================] - 1s 1ms/step - loss: 0.0010 - accuracy: 0.9997 - val_loss: 7.9120e-04 - val_accuracy: 0.9997\n",
      "Epoch 61/100\n",
      "684/684 [==============================] - 1s 1ms/step - loss: 3.8785e-04 - accuracy: 0.9998 - val_loss: 7.2121e-04 - val_accuracy: 0.9997\n",
      "Epoch 62/100\n",
      "684/684 [==============================] - 1s 1ms/step - loss: 3.7449e-04 - accuracy: 0.9998 - val_loss: 7.6974e-04 - val_accuracy: 0.9997\n",
      "Epoch 63/100\n",
      "684/684 [==============================] - 1s 1ms/step - loss: 3.7342e-04 - accuracy: 0.9998 - val_loss: 8.1997e-04 - val_accuracy: 0.9997\n",
      "Epoch 64/100\n",
      "684/684 [==============================] - 1s 1ms/step - loss: 3.7170e-04 - accuracy: 0.9998 - val_loss: 8.6581e-04 - val_accuracy: 0.9997\n",
      "Epoch 65/100\n",
      "684/684 [==============================] - 1s 1ms/step - loss: 3.7570e-04 - accuracy: 0.9998 - val_loss: 9.4580e-04 - val_accuracy: 0.9997\n",
      "Epoch 66/100\n",
      "684/684 [==============================] - 1s 1ms/step - loss: 3.7400e-04 - accuracy: 0.9998 - val_loss: 0.0010 - val_accuracy: 0.9997\n",
      "Epoch 67/100\n",
      "684/684 [==============================] - 1s 1ms/step - loss: 3.7337e-04 - accuracy: 0.9998 - val_loss: 0.0011 - val_accuracy: 0.9997\n",
      "Epoch 68/100\n",
      "684/684 [==============================] - 1s 1ms/step - loss: 3.7721e-04 - accuracy: 0.9998 - val_loss: 0.0012 - val_accuracy: 0.9997\n",
      "Epoch 69/100\n",
      "684/684 [==============================] - 1s 1ms/step - loss: 3.7733e-04 - accuracy: 0.9998 - val_loss: 5.4882e-04 - val_accuracy: 0.9997\n",
      "Epoch 70/100\n",
      "684/684 [==============================] - 1s 1ms/step - loss: 3.7518e-04 - accuracy: 0.9998 - val_loss: 5.6687e-04 - val_accuracy: 0.9997\n",
      "Epoch 71/100\n",
      "684/684 [==============================] - 1s 1ms/step - loss: 3.7724e-04 - accuracy: 0.9998 - val_loss: 5.9397e-04 - val_accuracy: 0.9997\n",
      "Epoch 72/100\n",
      "684/684 [==============================] - 1s 1ms/step - loss: 3.7606e-04 - accuracy: 0.9998 - val_loss: 6.2435e-04 - val_accuracy: 0.9997\n",
      "Epoch 73/100\n",
      "684/684 [==============================] - 1s 1ms/step - loss: 3.7536e-04 - accuracy: 0.9998 - val_loss: 6.6604e-04 - val_accuracy: 0.9997\n",
      "Epoch 74/100\n",
      "684/684 [==============================] - 1s 1ms/step - loss: 3.7647e-04 - accuracy: 0.9998 - val_loss: 7.1049e-04 - val_accuracy: 0.9997\n",
      "Epoch 75/100\n",
      "684/684 [==============================] - 1s 1ms/step - loss: 3.7432e-04 - accuracy: 0.9998 - val_loss: 7.4964e-04 - val_accuracy: 0.9997\n",
      "Epoch 76/100\n",
      "684/684 [==============================] - 1s 1ms/step - loss: 3.7764e-04 - accuracy: 0.9998 - val_loss: 7.8192e-04 - val_accuracy: 0.9997\n",
      "Epoch 77/100\n",
      "684/684 [==============================] - 1s 1ms/step - loss: 3.7378e-04 - accuracy: 0.9998 - val_loss: 8.2726e-04 - val_accuracy: 0.9997\n",
      "Epoch 78/100\n",
      "684/684 [==============================] - 1s 1ms/step - loss: 3.7706e-04 - accuracy: 0.9998 - val_loss: 8.8162e-04 - val_accuracy: 0.9997\n",
      "Epoch 79/100\n",
      "684/684 [==============================] - 1s 1ms/step - loss: 3.7666e-04 - accuracy: 0.9998 - val_loss: 9.3486e-04 - val_accuracy: 0.9997\n",
      "Epoch 80/100\n",
      "684/684 [==============================] - 1s 1ms/step - loss: 3.7457e-04 - accuracy: 0.9998 - val_loss: 9.8019e-04 - val_accuracy: 0.9997\n",
      "Epoch 81/100\n",
      "684/684 [==============================] - 1s 1ms/step - loss: 3.7645e-04 - accuracy: 0.9998 - val_loss: 0.0010 - val_accuracy: 0.9997\n",
      "Epoch 82/100\n",
      "684/684 [==============================] - 1s 1ms/step - loss: 5.5422e-04 - accuracy: 0.9998 - val_loss: 7.3778e-04 - val_accuracy: 0.9997\n",
      "Epoch 83/100\n",
      "684/684 [==============================] - 1s 1ms/step - loss: 4.1879e-04 - accuracy: 0.9998 - val_loss: 0.0028 - val_accuracy: 0.9992\n",
      "Epoch 84/100\n",
      "684/684 [==============================] - 1s 1ms/step - loss: 3.7439e-04 - accuracy: 0.9998 - val_loss: 0.0030 - val_accuracy: 0.9992\n",
      "Epoch 85/100\n",
      "684/684 [==============================] - 1s 1ms/step - loss: 3.7462e-04 - accuracy: 0.9998 - val_loss: 0.0031 - val_accuracy: 0.9992\n",
      "Epoch 86/100\n",
      "684/684 [==============================] - 1s 1ms/step - loss: 3.7470e-04 - accuracy: 0.9998 - val_loss: 0.0032 - val_accuracy: 0.9992\n",
      "Epoch 87/100\n",
      "684/684 [==============================] - 1s 1ms/step - loss: 3.7649e-04 - accuracy: 0.9998 - val_loss: 0.0033 - val_accuracy: 0.9992\n",
      "Epoch 88/100\n",
      "684/684 [==============================] - 1s 1ms/step - loss: 3.7686e-04 - accuracy: 0.9998 - val_loss: 0.0033 - val_accuracy: 0.9992\n",
      "Epoch 89/100\n",
      "684/684 [==============================] - 1s 1ms/step - loss: 3.7541e-04 - accuracy: 0.9998 - val_loss: 0.0035 - val_accuracy: 0.9992\n",
      "Epoch 90/100\n",
      "684/684 [==============================] - 1s 1ms/step - loss: 3.7531e-04 - accuracy: 0.9998 - val_loss: 0.0036 - val_accuracy: 0.9992\n",
      "Epoch 91/100\n",
      "684/684 [==============================] - 1s 1ms/step - loss: 3.7393e-04 - accuracy: 0.9998 - val_loss: 0.0035 - val_accuracy: 0.9992\n",
      "Epoch 92/100\n",
      "684/684 [==============================] - 1s 1ms/step - loss: 3.7628e-04 - accuracy: 0.9998 - val_loss: 0.0037 - val_accuracy: 0.9992\n",
      "Epoch 93/100\n",
      "684/684 [==============================] - 1s 1ms/step - loss: 3.7752e-04 - accuracy: 0.9998 - val_loss: 0.0037 - val_accuracy: 0.9992\n",
      "Epoch 94/100\n",
      "684/684 [==============================] - 1s 1ms/step - loss: 3.7381e-04 - accuracy: 0.9998 - val_loss: 0.0038 - val_accuracy: 0.9992\n",
      "Epoch 95/100\n",
      "684/684 [==============================] - 1s 1ms/step - loss: 3.8062e-04 - accuracy: 0.9998 - val_loss: 0.0028 - val_accuracy: 0.9992\n",
      "Epoch 96/100\n",
      "684/684 [==============================] - 1s 1ms/step - loss: 3.7769e-04 - accuracy: 0.9998 - val_loss: 0.0027 - val_accuracy: 0.9992\n",
      "Epoch 97/100\n",
      "684/684 [==============================] - 1s 1ms/step - loss: 3.7577e-04 - accuracy: 0.9998 - val_loss: 0.0026 - val_accuracy: 0.9992\n",
      "Epoch 98/100\n",
      "684/684 [==============================] - 1s 1ms/step - loss: 3.7636e-04 - accuracy: 0.9998 - val_loss: 0.0026 - val_accuracy: 0.9992\n",
      "Epoch 99/100\n",
      "684/684 [==============================] - 1s 1ms/step - loss: 3.7565e-04 - accuracy: 0.9998 - val_loss: 0.0025 - val_accuracy: 0.9992\n",
      "Epoch 100/100\n",
      "684/684 [==============================] - 1s 1ms/step - loss: 3.7504e-04 - accuracy: 0.9998 - val_loss: 0.0025 - val_accuracy: 0.9992\n"
     ]
    }
   ],
   "source": [
    "# Train the model\n",
    "fit_model = nn.fit(X_train_scaled,y_train,validation_split=0.15, epochs=100)"
   ]
  },
  {
   "cell_type": "code",
   "execution_count": 37,
   "metadata": {
    "colab": {
     "base_uri": "https://localhost:8080/"
    },
    "id": "0fvU7labEIyH",
    "outputId": "2ab3288f-1d44-4eb9-d828-4e146dbae665"
   },
   "outputs": [
    {
     "name": "stdout",
     "output_type": "stream",
     "text": [
      "268/268 - 0s - loss: 0.0096 - accuracy: 0.9991 - 226ms/epoch - 844us/step\n",
      "Loss: 0.009613186120986938, Accuracy: 0.9990670680999756\n"
     ]
    }
   ],
   "source": [
    "# Evaluate the model using the test data\n",
    "model_loss, model_accuracy = nn.evaluate(X_test_scaled,y_test,verbose=2)\n",
    "print(f\"Loss: {model_loss}, Accuracy: {model_accuracy}\")"
   ]
  },
  {
   "cell_type": "code",
   "execution_count": 40,
   "metadata": {
    "colab": {
     "base_uri": "https://localhost:8080/",
     "height": 17
    },
    "id": "SaRAYuO9EIyH",
    "outputId": "2a605281-805a-4e67-e998-316f95b3b951"
   },
   "outputs": [],
   "source": [
    "nn.save(\"AlphabetSoupCharity_Optimization.h5\")"
   ]
  }
 ],
 "metadata": {
  "colab": {
   "name": "Starter_Code.ipynb",
   "provenance": []
  },
  "kernelspec": {
   "display_name": "Python 3 (ipykernel)",
   "language": "python",
   "name": "python3"
  },
  "language_info": {
   "codemirror_mode": {
    "name": "ipython",
    "version": 3
   },
   "file_extension": ".py",
   "mimetype": "text/x-python",
   "name": "python",
   "nbconvert_exporter": "python",
   "pygments_lexer": "ipython3",
   "version": "3.9.16"
  }
 },
 "nbformat": 4,
 "nbformat_minor": 1
}
